{
 "cells": [
  {
   "cell_type": "markdown",
   "metadata": {},
   "source": [
    "# python basic practices"
   ]
  },
  {
   "cell_type": "markdown",
   "metadata": {},
   "source": [
    "### Numbers"
   ]
  },
  {
   "cell_type": "code",
   "execution_count": 1,
   "metadata": {
    "collapsed": true
   },
   "outputs": [],
   "source": [
    "#declearing variables"
   ]
  },
  {
   "cell_type": "code",
   "execution_count": 2,
   "metadata": {
    "collapsed": false
   },
   "outputs": [
    {
     "name": "stdout",
     "output_type": "stream",
     "text": [
      "1\n",
      "1.234\n",
      "True\n"
     ]
    }
   ],
   "source": [
    "x = 1\n",
    "y = 1.234\n",
    "z = True\n",
    " \n",
    "print(x)\n",
    "print(y)\n",
    "print(z)"
   ]
  },
  {
   "cell_type": "code",
   "execution_count": 3,
   "metadata": {
    "collapsed": false
   },
   "outputs": [
    {
     "name": "stdout",
     "output_type": "stream",
     "text": [
      "11\n"
     ]
    }
   ],
   "source": [
    "x = 3\n",
    "y = 8\n",
    " \n",
    "sum = x + y\n",
    " \n",
    "print(sum)"
   ]
  },
  {
   "cell_type": "markdown",
   "metadata": {},
   "source": [
    "### taking input from the users"
   ]
  },
  {
   "cell_type": "code",
   "execution_count": 1,
   "metadata": {
    "collapsed": false
   },
   "outputs": [
    {
     "name": "stdout",
     "output_type": "stream",
     "text": [
      "Enter x:2\n",
      "Enter y:3\n",
      "6\n"
     ]
    }
   ],
   "source": [
    "x = int(input(\"Enter x:\"))\n",
    "y = int(input(\"Enter y:\"))\n",
    "print(x*y)"
   ]
  },
  {
   "cell_type": "markdown",
   "metadata": {},
   "source": [
    "### Strings"
   ]
  },
  {
   "cell_type": "code",
   "execution_count": 2,
   "metadata": {
    "collapsed": false
   },
   "outputs": [
    {
     "name": "stdout",
     "output_type": "stream",
     "text": [
      "hello world\n"
     ]
    }
   ],
   "source": [
    "s = \"hello world\"\n",
    "print(s)\n"
   ]
  },
  {
   "cell_type": "code",
   "execution_count": 3,
   "metadata": {
    "collapsed": false
   },
   "outputs": [
    {
     "name": "stdout",
     "output_type": "stream",
     "text": [
      "Enter name: sahil\n",
      "sahil\n"
     ]
    }
   ],
   "source": [
    "name = input(\"Enter name: \")\n",
    "print(name)"
   ]
  },
  {
   "cell_type": "code",
   "execution_count": 7,
   "metadata": {
    "collapsed": false
   },
   "outputs": [
    {
     "name": "stdout",
     "output_type": "stream",
     "text": [
      "not equal\n"
     ]
    }
   ],
   "source": [
    "sentence = \"The cat is brown\"\n",
    "q = \"cat\"\n",
    " \n",
    "if q == sentence:\n",
    "    print('strings equal')\n",
    "else:\n",
    "    print('not equal')"
   ]
  },
  {
   "cell_type": "markdown",
   "metadata": {},
   "source": [
    "## list"
   ]
  },
  {
   "cell_type": "code",
   "execution_count": 8,
   "metadata": {
    "collapsed": false
   },
   "outputs": [
    {
     "name": "stdout",
     "output_type": "stream",
     "text": [
      "['Drake', 'Derp', 'Derek', 'Dominique']\n",
      "Drake\n",
      "Derp\n"
     ]
    }
   ],
   "source": [
    "l = [ \"Drake\", \"Derp\", \"Derek\", \"Dominique\" ]\n",
    " \n",
    "print(l)     # prints all elements\n",
    "print(l[0])  # print first element\n",
    "print(l[1])  # prints second element"
   ]
  },
  {
   "cell_type": "code",
   "execution_count": 9,
   "metadata": {
    "collapsed": false
   },
   "outputs": [
    {
     "name": "stdout",
     "output_type": "stream",
     "text": [
      "['Drake', 'Derp', 'Derek', 'Dominique']\n",
      "['Drake', 'Derp', 'Derek', 'Dominique', 'Victoria']\n",
      "['Derek', 'Dominique', 'Victoria']\n"
     ]
    }
   ],
   "source": [
    "l = [ \"Drake\", \"Derp\", \"Derek\", \"Dominique\" ]\n",
    " \n",
    "print(l)                # prints all elements\n",
    "l.append(\"Victoria\")   # add element.\n",
    "print(l)                # print all elements\n",
    "l.remove(\"Derp\")       # remove element.\n",
    "l.remove(\"Drake\")      # remove element.\n",
    "print(l) "
   ]
  },
  {
   "cell_type": "code",
   "execution_count": 10,
   "metadata": {
    "collapsed": false
   },
   "outputs": [
    {
     "name": "stdout",
     "output_type": "stream",
     "text": [
      "['Drake', 'Derp', 'Derek', 'Dominique']\n",
      "['Derek', 'Derp', 'Dominique', 'Drake']\n"
     ]
    }
   ],
   "source": [
    "l = [ \"Drake\", \"Derp\", \"Derek\", \"Dominique\" ]\n",
    " \n",
    "print(l)     # prints all elements\n",
    "l.sort()    # sorts the list in alphabetical order\n",
    "print(l)     # prints all elements"
   ]
  },
  {
   "cell_type": "markdown",
   "metadata": {},
   "source": [
    "## sorting\n"
   ]
  },
  {
   "cell_type": "code",
   "execution_count": 11,
   "metadata": {
    "collapsed": false
   },
   "outputs": [
    {
     "name": "stdout",
     "output_type": "stream",
     "text": [
      "['Drake', 'Derp', 'Derek', 'Dominique']\n",
      "['Drake', 'Dominique', 'Derp', 'Derek']\n"
     ]
    }
   ],
   "source": [
    "\n",
    "l = [ \"Drake\", \"Derp\", \"Derek\", \"Dominique\" ]\n",
    " \n",
    "print(l)     # prints all elements\n",
    "l.sort()    # sorts the list in alphabetical order\n",
    "l.reverse() # reverse order.\n",
    "print(l)     # prints all elements"
   ]
  },
  {
   "cell_type": "markdown",
   "metadata": {},
   "source": [
    "### Tuples"
   ]
  },
  {
   "cell_type": "code",
   "execution_count": 12,
   "metadata": {
    "collapsed": false
   },
   "outputs": [
    {
     "name": "stdout",
     "output_type": "stream",
     "text": [
      "Diana\n",
      "32\n"
     ]
    }
   ],
   "source": [
    "personInfo = (\"Diana\", 32, \"New York\")\n",
    "print(personInfo[0])\n",
    "print(personInfo[1])"
   ]
  },
  {
   "cell_type": "code",
   "execution_count": 13,
   "metadata": {
    "collapsed": false
   },
   "outputs": [
    {
     "name": "stdout",
     "output_type": "stream",
     "text": [
      "(3, 4, 5, 6, 1, 2, 3)\n"
     ]
    }
   ],
   "source": [
    "x = (3,4,5,6)\n",
    "x = x + (1,2,3)\n",
    "print(x)"
   ]
  },
  {
   "cell_type": "code",
   "execution_count": 14,
   "metadata": {
    "collapsed": false
   },
   "outputs": [
    {
     "name": "stdout",
     "output_type": "stream",
     "text": [
      "Diana\n",
      "32\n"
     ]
    }
   ],
   "source": [
    " #data access\n",
    "personInfo = (\"Diana\", 32, \"New York\")\n",
    "print(personInfo[0])\n",
    "print(personInfo[1])"
   ]
  },
  {
   "cell_type": "code",
   "execution_count": 15,
   "metadata": {
    "collapsed": true
   },
   "outputs": [],
   "source": [
    "tuple = (3,)"
   ]
  },
  {
   "cell_type": "code",
   "execution_count": 16,
   "metadata": {
    "collapsed": false
   },
   "outputs": [
    {
     "name": "stdout",
     "output_type": "stream",
     "text": [
      "(3, 4, 5, 6, 1, 2, 3)\n"
     ]
    }
   ],
   "source": [
    "#Append to a tuple in Python\n",
    "x = (3,4,5,6)\n",
    "x = x + (1,2,3)\n",
    "print(x)"
   ]
  },
  {
   "cell_type": "markdown",
   "metadata": {},
   "source": [
    "### dictionaries"
   ]
  },
  {
   "cell_type": "code",
   "execution_count": 17,
   "metadata": {
    "collapsed": false
   },
   "outputs": [
    {
     "name": "stdout",
     "output_type": "stream",
     "text": [
      "Bonjour\n",
      "Non\n"
     ]
    }
   ],
   "source": [
    "words = {}\n",
    "words[\"Hello\"] = \"Bonjour\"\n",
    "words[\"Yes\"] = \"Oui\"\n",
    "words[\"No\"] = \"Non\"\n",
    "words[\"Bye\"] = \"Au Revoir\"\n",
    " \n",
    "print(words[\"Hello\"])\n",
    "print(words[\"No\"])"
   ]
  },
  {
   "cell_type": "code",
   "execution_count": 18,
   "metadata": {
    "collapsed": false
   },
   "outputs": [
    {
     "name": "stdout",
     "output_type": "stream",
     "text": [
      "Car\n",
      "The Python Programming Language\n",
      "This sentence is stored here.\n"
     ]
    }
   ],
   "source": [
    "dict = {}\n",
    "dict['Ford'] = \"Car\"\n",
    "dict['Python'] = \"The Python Programming Language\"\n",
    "dict[2] = \"This sentence is stored here.\"\n",
    " \n",
    "print(dict['Ford'])\n",
    "print(dict['Python'])\n",
    "print(dict[2])"
   ]
  },
  {
   "cell_type": "code",
   "execution_count": 19,
   "metadata": {
    "collapsed": false
   },
   "outputs": [
    {
     "name": "stdout",
     "output_type": "stream",
     "text": [
      "{'Yes': 'Oui', 'Bye': 'Au Revoir', 'No': 'Non', 'Hello': 'Bonjour'}\n",
      "{'Bye': 'Au Revoir', 'No': 'Non', 'Hello': 'Bonjour'}\n",
      "{'Yes': 'Oui!', 'Bye': 'Au Revoir', 'No': 'Non', 'Hello': 'Bonjour'}\n"
     ]
    }
   ],
   "source": [
    "words = {}\n",
    "words[\"Hello\"] = \"Bonjour\"\n",
    "words[\"Yes\"] = \"Oui\"\n",
    "words[\"No\"] = \"Non\"\n",
    "words[\"Bye\"] = \"Au Revoir\"\n",
    " \n",
    "print(words)           # print key-pairs.\n",
    "del words[\"Yes\"]       # delete a key-pair.\n",
    "print(words)           # print key-pairs.\n",
    "words[\"Yes\"] = \"Oui!\"  # add new key-pair.\n",
    "print(words)"
   ]
  },
  {
   "cell_type": "markdown",
   "metadata": {},
   "source": [
    "### Datatype casting"
   ]
  },
  {
   "cell_type": "code",
   "execution_count": 20,
   "metadata": {
    "collapsed": false
   },
   "outputs": [
    {
     "name": "stdout",
     "output_type": "stream",
     "text": [
      "We have defined two numbers,\n",
      "x = 3\n",
      "y = 2.15315315313532\n"
     ]
    }
   ],
   "source": [
    "#int to string\n",
    "x = 3\n",
    "y = 2.15315315313532\n",
    " \n",
    "print(\"We have defined two numbers,\")\n",
    "print(\"x = \" + str(x))\n",
    "print(\"y = \" + str(y))"
   ]
  },
  {
   "cell_type": "code",
   "execution_count": 21,
   "metadata": {
    "collapsed": false
   },
   "outputs": [
    {
     "name": "stdout",
     "output_type": "stream",
     "text": [
      "268.4254323\n"
     ]
    }
   ],
   "source": [
    "#string to float\n",
    "a = \"135.31421\"\n",
    "b = \"133.1112223\"\n",
    " \n",
    "c = float(a) + float(b)\n",
    "print(c)"
   ]
  },
  {
   "cell_type": "markdown",
   "metadata": {},
   "source": [
    "### If statements"
   ]
  },
  {
   "cell_type": "code",
   "execution_count": 22,
   "metadata": {
    "collapsed": false
   },
   "outputs": [
    {
     "name": "stdout",
     "output_type": "stream",
     "text": [
      "x smaller than 10\n"
     ]
    }
   ],
   "source": [
    "x = 3\n",
    "if x < 10:\n",
    "   print(\"x smaller than 10\")\n",
    "else:\n",
    "   print(\"x is bigger than 10 or equal\")"
   ]
  },
  {
   "cell_type": "code",
   "execution_count": 25,
   "metadata": {
    "collapsed": false
   },
   "outputs": [
    {
     "name": "stdout",
     "output_type": "stream",
     "text": [
      "Guess my age, you have 1 chances!\n",
      "Guess: 25\n",
      "Wrong!\n"
     ]
    }
   ],
   "source": [
    "age = 24\n",
    " \n",
    "print (\"Guess my age, you have 1 chances!\")\n",
    "guess = int(input(\"Guess: \"))\n",
    " \n",
    "if guess != age:\n",
    "    print(\"Wrong!\")\n",
    "else:\n",
    "    print(\"Correct\")"
   ]
  },
  {
   "cell_type": "markdown",
   "metadata": {},
   "source": [
    "### nesting"
   ]
  },
  {
   "cell_type": "code",
   "execution_count": 26,
   "metadata": {
    "collapsed": false
   },
   "outputs": [
    {
     "name": "stdout",
     "output_type": "stream",
     "text": [
      "Good\n"
     ]
    }
   ],
   "source": [
    "a = 12 \n",
    "b = 33\n",
    " \n",
    "if a > 10:\n",
    "    if b > 20:\n",
    "        print(\"Good\")"
   ]
  },
  {
   "cell_type": "code",
   "execution_count": 27,
   "metadata": {
    "collapsed": false
   },
   "outputs": [
    {
     "name": "stdout",
     "output_type": "stream",
     "text": [
      "Out of range\n"
     ]
    }
   ],
   "source": [
    "guess = 24\n",
    "if guess > 10 and guess < 20:\n",
    "    print(\"In range\")\n",
    "else:\n",
    "    print(\"Out of range\")"
   ]
  },
  {
   "cell_type": "markdown",
   "metadata": {},
   "source": [
    "### function"
   ]
  },
  {
   "cell_type": "code",
   "execution_count": 28,
   "metadata": {
    "collapsed": false
   },
   "outputs": [
    {
     "name": "stdout",
     "output_type": "stream",
     "text": [
      "9\n"
     ]
    }
   ],
   "source": [
    "def f(x):\n",
    "    return(x*x)\n",
    " \n",
    "print(f(3))"
   ]
  },
  {
   "cell_type": "code",
   "execution_count": 29,
   "metadata": {
    "collapsed": false
   },
   "outputs": [
    {
     "ename": "NameError",
     "evalue": "name 'V' is not defined",
     "output_type": "error",
     "traceback": [
      "\u001b[0;31m---------------------------------------------------------------------------\u001b[0m",
      "\u001b[0;31mNameError\u001b[0m                                 Traceback (most recent call last)",
      "\u001b[0;32m<ipython-input-29-c43618d7aaed>\u001b[0m in \u001b[0;36m<module>\u001b[0;34m()\u001b[0m\n\u001b[1;32m      1\u001b[0m \u001b[1;31m#parameter\u001b[0m\u001b[1;33m\u001b[0m\u001b[1;33m\u001b[0m\u001b[0m\n\u001b[0;32m----> 2\u001b[0;31m \u001b[0mV\u001b[0m\u001b[1;33m\u001b[0m\u001b[0m\n\u001b[0m",
      "\u001b[0;31mNameError\u001b[0m: name 'V' is not defined"
     ]
    }
   ],
   "source": [
    "#parameter\n",
    "V"
   ]
  },
  {
   "cell_type": "code",
   "execution_count": 30,
   "metadata": {
    "collapsed": false
   },
   "outputs": [
    {
     "name": "stdout",
     "output_type": "stream",
     "text": [
      "You called f(x,y) with the value x = 3 and y = 2\n",
      "x * y = 6\n"
     ]
    }
   ],
   "source": [
    "#parameter\n",
    "def f(x,y):\n",
    "    print('You called f(x,y) with the value x = ' + str(x) + ' and y = ' + str(y))\n",
    "    print('x * y = ' + str(x*y))\n",
    " \n",
    "f(3,2)"
   ]
  },
  {
   "cell_type": "markdown",
   "metadata": {},
   "source": [
    "### loop"
   ]
  },
  {
   "cell_type": "code",
   "execution_count": 31,
   "metadata": {
    "collapsed": false
   },
   "outputs": [
    {
     "name": "stdout",
     "output_type": "stream",
     "text": [
      "Abby\n",
      "Brenda\n",
      "Cindy\n",
      "Diddy\n"
     ]
    }
   ],
   "source": [
    "items = [ \"Abby\",\"Brenda\",\"Cindy\",\"Diddy\" ]\n",
    " \n",
    "for item in items:\n",
    "    print(item)"
   ]
  },
  {
   "cell_type": "code",
   "execution_count": 32,
   "metadata": {
    "collapsed": false
   },
   "outputs": [
    {
     "name": "stdout",
     "output_type": "stream",
     "text": [
      "1\n",
      "2\n",
      "3\n",
      "4\n",
      "5\n",
      "6\n",
      "7\n",
      "8\n",
      "9\n"
     ]
    }
   ],
   "source": [
    "for i in range(1,10):\n",
    "    print(i)"
   ]
  },
  {
   "cell_type": "code",
   "execution_count": 33,
   "metadata": {
    "collapsed": false
   },
   "outputs": [
    {
     "name": "stdout",
     "output_type": "stream",
     "text": [
      "Guess the number: 25\n",
      "False guess\n",
      "Guess the number: 25\n",
      "False guess\n",
      "Guess the number: 25\n",
      "False guess\n",
      "Guess the number: 25\n",
      "False guess\n",
      "Guess the number: 25\n",
      "False guess\n",
      "Guess the number: 6\n",
      "False guess\n",
      "Guess the number: 8\n",
      "False guess\n",
      "Guess the number: 84\n",
      "False guess\n",
      "Guess the number: 489\n",
      "False guess\n",
      "Guess the number: 84+494\n"
     ]
    },
    {
     "ename": "ValueError",
     "evalue": "invalid literal for int() with base 10: '84+494'",
     "output_type": "error",
     "traceback": [
      "\u001b[0;31m---------------------------------------------------------------------------\u001b[0m",
      "\u001b[0;31mValueError\u001b[0m                                Traceback (most recent call last)",
      "\u001b[0;32m<ipython-input-33-40dcb895c828>\u001b[0m in \u001b[0;36m<module>\u001b[0;34m()\u001b[0m\n\u001b[1;32m      4\u001b[0m \u001b[1;33m\u001b[0m\u001b[0m\n\u001b[1;32m      5\u001b[0m \u001b[1;32mwhile\u001b[0m \u001b[0mguess\u001b[0m \u001b[1;33m!=\u001b[0m \u001b[0mcorrectNumber\u001b[0m\u001b[1;33m:\u001b[0m\u001b[1;33m\u001b[0m\u001b[0m\n\u001b[0;32m----> 6\u001b[0;31m     \u001b[0mguess\u001b[0m \u001b[1;33m=\u001b[0m \u001b[0mint\u001b[0m\u001b[1;33m(\u001b[0m\u001b[0minput\u001b[0m\u001b[1;33m(\u001b[0m\u001b[1;34m\"Guess the number: \"\u001b[0m\u001b[1;33m)\u001b[0m\u001b[1;33m)\u001b[0m\u001b[1;33m\u001b[0m\u001b[0m\n\u001b[0m\u001b[1;32m      7\u001b[0m \u001b[1;33m\u001b[0m\u001b[0m\n\u001b[1;32m      8\u001b[0m     \u001b[1;32mif\u001b[0m \u001b[0mguess\u001b[0m \u001b[1;33m!=\u001b[0m \u001b[0mcorrectNumber\u001b[0m\u001b[1;33m:\u001b[0m\u001b[1;33m\u001b[0m\u001b[0m\n",
      "\u001b[0;31mValueError\u001b[0m: invalid literal for int() with base 10: '84+494'"
     ]
    }
   ],
   "source": [
    "#while loop\n",
    "correctNumber = 5\n",
    "guess = 0\n",
    " \n",
    "while guess != correctNumber:\n",
    "    guess = int(input(\"Guess the number: \"))\n",
    " \n",
    "    if guess != correctNumber:\n",
    "        print('False guess')\n",
    " \n",
    "print('You guessed the correct number')"
   ]
  },
  {
   "cell_type": "code",
   "execution_count": 34,
   "metadata": {
    "collapsed": false
   },
   "outputs": [
    {
     "name": "stdout",
     "output_type": "stream",
     "text": [
      "Guess the number: 54\n",
      "False guess\n",
      "Guess the number: 48\n",
      "False guess\n",
      "Guess the number: 5\n"
     ]
    }
   ],
   "source": [
    "#while loop\n",
    "correctNumber = 5\n",
    "guess = 0\n",
    " \n",
    "while guess != correctNumber:\n",
    "    guess = int(input(\"Guess the number: \"))\n",
    " \n",
    "    if guess != correctNumber:\n",
    "        print('False guess')"
   ]
  },
  {
   "cell_type": "code",
   "execution_count": 36,
   "metadata": {
    "collapsed": false
   },
   "outputs": [
    {
     "name": "stdout",
     "output_type": "stream",
     "text": [
      "(1,1)\n",
      "(1,2)\n",
      "(1,3)\n",
      "(1,4)\n",
      "(1,5)\n",
      "(1,6)\n",
      "(1,7)\n",
      "(1,8)\n",
      "(1,9)\n",
      "(2,1)\n",
      "(2,2)\n",
      "(2,3)\n",
      "(2,4)\n",
      "(2,5)\n",
      "(2,6)\n",
      "(2,7)\n",
      "(2,8)\n",
      "(2,9)\n",
      "(3,1)\n",
      "(3,2)\n",
      "(3,3)\n",
      "(3,4)\n",
      "(3,5)\n",
      "(3,6)\n",
      "(3,7)\n",
      "(3,8)\n",
      "(3,9)\n",
      "(4,1)\n",
      "(4,2)\n",
      "(4,3)\n",
      "(4,4)\n",
      "(4,5)\n",
      "(4,6)\n",
      "(4,7)\n",
      "(4,8)\n",
      "(4,9)\n",
      "(5,1)\n",
      "(5,2)\n",
      "(5,3)\n",
      "(5,4)\n",
      "(5,5)\n",
      "(5,6)\n",
      "(5,7)\n",
      "(5,8)\n",
      "(5,9)\n",
      "(6,1)\n",
      "(6,2)\n",
      "(6,3)\n",
      "(6,4)\n",
      "(6,5)\n",
      "(6,6)\n",
      "(6,7)\n",
      "(6,8)\n",
      "(6,9)\n",
      "(7,1)\n",
      "(7,2)\n",
      "(7,3)\n",
      "(7,4)\n",
      "(7,5)\n",
      "(7,6)\n",
      "(7,7)\n",
      "(7,8)\n",
      "(7,9)\n",
      "(8,1)\n",
      "(8,2)\n",
      "(8,3)\n",
      "(8,4)\n",
      "(8,5)\n",
      "(8,6)\n",
      "(8,7)\n",
      "(8,8)\n",
      "(8,9)\n",
      "(9,1)\n",
      "(9,2)\n",
      "(9,3)\n",
      "(9,4)\n",
      "(9,5)\n",
      "(9,6)\n",
      "(9,7)\n",
      "(9,8)\n",
      "(9,9)\n"
     ]
    }
   ],
   "source": [
    "#nested loop\n",
    "for x in range(1,10):\n",
    "    for y in range(1,10):\n",
    "        print(\"(\" + str(x) + \",\" + str(y) + \")\")"
   ]
  },
  {
   "cell_type": "markdown",
   "metadata": {},
   "source": [
    "### Objects and classes"
   ]
  },
  {
   "cell_type": "code",
   "execution_count": 39,
   "metadata": {
    "collapsed": false
   },
   "outputs": [
    {
     "ename": "SyntaxError",
     "evalue": "invalid syntax (<ipython-input-39-58d41636068a>, line 12)",
     "output_type": "error",
     "traceback": [
      "\u001b[0;36m  File \u001b[0;32m\"<ipython-input-39-58d41636068a>\"\u001b[0;36m, line \u001b[0;32m12\u001b[0m\n\u001b[0;31m    james = User(\"James\")\u001b[0m\n\u001b[0m        ^\u001b[0m\n\u001b[0;31mSyntaxError\u001b[0m\u001b[0;31m:\u001b[0m invalid syntax\n"
     ]
    }
   ],
   "source": [
    "#classes\n",
    "class User:\n",
    "    name = \"\"\n",
    " \n",
    "    def __init__(self, name):\n",
    "        self.name = name\n",
    " \n",
    "    def sayHello(self):\n",
    "        print (('Hello, my name is\" + self.name')\n",
    " \n",
    "# create virtual objects\n",
    "james = User(\"James\")\n",
    "david = User(\"David\")\n",
    "eric = User(\"Eric\")\n",
    " \n",
    "# call methods owned by virtual objects\n",
    "james.sayHello()\n",
    "david.sayHello()"
   ]
  },
  {
   "cell_type": "markdown",
   "metadata": {},
   "source": [
    "#Class variables\n",
    "def addBean(self):\n",
    "        self.bean = self.bean + 1\n",
    " \n",
    "    def removeBean(self):\n",
    "        self.bean = self.bean - 1\n",
    "        "
   ]
  },
  {
   "cell_type": "code",
   "execution_count": 42,
   "metadata": {
    "collapsed": false
   },
   "outputs": [
    {
     "name": "stdout",
     "output_type": "stream",
     "text": [
      "Name  = Python Bean\n",
      "Beans = 83\n",
      "Water = 20\n",
      "\n",
      "Name  = Python Bean\n",
      "Beans = 84\n",
      "Water = 20\n"
     ]
    }
   ],
   "source": [
    "class CoffeeMachine:\n",
    "    name = \"\"\n",
    "    beans = 0\n",
    "    water = 0\n",
    " \n",
    "    def __init__(self, name, beans, water):\n",
    "        self.name = name\n",
    "        self.beans = beans\n",
    "        self.water = water\n",
    " \n",
    "    def addBean(self):\n",
    "        self.beans = self.beans + 1\n",
    " \n",
    "    def removeBean(self):\n",
    "        self.beans = self.beans - 1\n",
    " \n",
    "    def addWater(self):\n",
    "        self.water = self.water + 1\n",
    " \n",
    "    def removeWater(self):\n",
    "        self.water = self.water - 1\n",
    " \n",
    "    def printState(self):\n",
    "        print (\"Name  = \" + self.name)\n",
    "        print (\"Beans = \" + str(self.beans))\n",
    "        print( \"Water = \" + str(self.water))\n",
    " \n",
    "pythonBean = CoffeeMachine(\"Python Bean\", 83, 20)\n",
    "pythonBean.printState()\n",
    "print (\"\")\n",
    "pythonBean.addBean()\n",
    "pythonBean.printState()"
   ]
  }
 ],
 "metadata": {
  "anaconda-cloud": {},
  "kernelspec": {
   "display_name": "Python [default]",
   "language": "python",
   "name": "python3"
  },
  "language_info": {
   "codemirror_mode": {
    "name": "ipython",
    "version": 3
   },
   "file_extension": ".py",
   "mimetype": "text/x-python",
   "name": "python",
   "nbconvert_exporter": "python",
   "pygments_lexer": "ipython3",
   "version": "3.5.2"
  }
 },
 "nbformat": 4,
 "nbformat_minor": 1
}
